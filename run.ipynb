{
 "cells": [
  {
   "cell_type": "code",
   "execution_count": 1,
   "metadata": {},
   "outputs": [
    {
     "ename": "UnboundLocalError",
     "evalue": "local variable 'df_test' referenced before assignment",
     "output_type": "error",
     "traceback": [
      "\u001b[0;31m---------------------------------------------------------------------------\u001b[0m",
      "\u001b[0;31mUnboundLocalError\u001b[0m                         Traceback (most recent call last)",
      "\u001b[0;32m<ipython-input-1-7bdef606a8af>\u001b[0m in \u001b[0;36m<module>\u001b[0;34m\u001b[0m\n\u001b[1;32m     56\u001b[0m     \u001b[0;31m# python main.py data features model\u001b[0m\u001b[0;34m\u001b[0m\u001b[0;34m\u001b[0m\u001b[0;34m\u001b[0m\u001b[0m\n\u001b[1;32m     57\u001b[0m     \u001b[0mtargets\u001b[0m \u001b[0;34m=\u001b[0m \u001b[0msys\u001b[0m\u001b[0;34m.\u001b[0m\u001b[0margv\u001b[0m\u001b[0;34m[\u001b[0m\u001b[0;36m1\u001b[0m\u001b[0;34m:\u001b[0m\u001b[0;34m]\u001b[0m\u001b[0;34m\u001b[0m\u001b[0;34m\u001b[0m\u001b[0m\n\u001b[0;32m---> 58\u001b[0;31m     \u001b[0mmain\u001b[0m\u001b[0;34m(\u001b[0m\u001b[0mtargets\u001b[0m\u001b[0;34m)\u001b[0m\u001b[0;34m\u001b[0m\u001b[0;34m\u001b[0m\u001b[0m\n\u001b[0m",
      "\u001b[0;32m<ipython-input-1-7bdef606a8af>\u001b[0m in \u001b[0;36mmain\u001b[0;34m(targets)\u001b[0m\n\u001b[1;32m     49\u001b[0m     \u001b[0;31m#     model_build(feats, labels, **model_cfg)\u001b[0m\u001b[0;34m\u001b[0m\u001b[0;34m\u001b[0m\u001b[0;34m\u001b[0m\u001b[0m\n\u001b[1;32m     50\u001b[0m \u001b[0;34m\u001b[0m\u001b[0m\n\u001b[0;32m---> 51\u001b[0;31m     \u001b[0;32mreturn\u001b[0m \u001b[0mdf_test\u001b[0m\u001b[0;34m\u001b[0m\u001b[0;34m\u001b[0m\u001b[0m\n\u001b[0m\u001b[1;32m     52\u001b[0m \u001b[0;34m\u001b[0m\u001b[0m\n\u001b[1;32m     53\u001b[0m \u001b[0;34m\u001b[0m\u001b[0m\n",
      "\u001b[0;31mUnboundLocalError\u001b[0m: local variable 'df_test' referenced before assignment"
     ]
    }
   ],
   "source": [
    "import sys\n",
    "import os\n",
    "import json\n",
    "import pandas as pd\n",
    "\n",
    "sys.path.insert(0, 'src')\n",
    "\n",
    "# import env_setup\n",
    "# from etl import get_data\n",
    "# from features import apply_features\n",
    "\n",
    "# from model import model_build\n",
    "\n",
    "\n",
    "# change the data path in ipynb with the test data's info can make the project work well\n",
    "\n",
    "\n",
    "def main(targets):\n",
    "    '''\n",
    "    Runs the main project pipeline logic, given the targets.\n",
    "    targets must contain: 'data', 'analysis', 'model'. \n",
    "    \n",
    "    `main` runs the targets in order of data=>analysis=>model.\n",
    "    '''\n",
    "\n",
    "    # env_setup.make_datadir()\n",
    "    # env_setup.auth()\n",
    "\n",
    "    if 'test' in targets:\n",
    "        with open('config/testdata-params.json') as fh:\n",
    "            data_cfg = json.load(fh)\n",
    "\n",
    "        # make the data target\n",
    "        df_test = pd.DataFrame.from_dict(data_cfg, orient=\"index\").transpose()\n",
    "\n",
    "        print(df_test)\n",
    "\n",
    "    # if 'features' in targets:\n",
    "    #     with open('config/features-params.json') as fh:\n",
    "    #         feats_cfg = json.load(fh)\n",
    "\n",
    "    #     feats, labels = apply_features(data, **feats_cfg)\n",
    "\n",
    "    # if 'model' in targets:\n",
    "    #     with open('config/model-params.json') as fh:\n",
    "    #         model_cfg = json.load(fh)\n",
    "\n",
    "    #     # make the data target\n",
    "    #     model_build(feats, labels, **model_cfg)\n",
    "\n",
    "    return df_test\n",
    "\n",
    "\n",
    "if __name__ == '__main__':\n",
    "    # run via:\n",
    "    # python main.py data features model\n",
    "    targets = sys.argv[1:]\n",
    "    main(targets)"
   ]
  },
  {
   "cell_type": "code",
   "execution_count": null,
   "metadata": {},
   "outputs": [],
   "source": []
  }
 ],
 "metadata": {
  "kernelspec": {
   "display_name": "Python 3",
   "language": "python",
   "name": "python3"
  },
  "language_info": {
   "codemirror_mode": {
    "name": "ipython",
    "version": 3
   },
   "file_extension": ".py",
   "mimetype": "text/x-python",
   "name": "python",
   "nbconvert_exporter": "python",
   "pygments_lexer": "ipython3",
   "version": "3.7.4"
  }
 },
 "nbformat": 4,
 "nbformat_minor": 2
}
